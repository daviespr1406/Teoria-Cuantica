{
 "cells": [
  {
   "cell_type": "markdown",
   "metadata": {},
   "source": [
    "# SIMULE EL PRIMER SISTEMA CUÁNTICO DESCRITO EN LA SECCIÓN 4.1."
   ]
  },
  {
   "cell_type": "markdown",
   "metadata": {},
   "source": [
    "### 1. El sistema debe calcular la probabilidad de encontrarlo en una posición en particular."
   ]
  },
  {
   "cell_type": "code",
   "execution_count": 11,
   "metadata": {},
   "outputs": [],
   "source": [
    "import numpy as np\n",
    "def quantumStates(v, pos):\n",
    "    prob = np.abs(v[pos]) ** 2 / np.linalg.norm(v) ** 2\n",
    "    return prob"
   ]
  },
  {
   "cell_type": "markdown",
   "metadata": {},
   "source": [
    "### 2. El sistema si se le da otro vector Ket debe buscar la probabilidad de transitar del primer vector al segundo."
   ]
  },
  {
   "cell_type": "code",
   "execution_count": 12,
   "metadata": {},
   "outputs": [],
   "source": [
    "import numpy as np\n",
    "def normalizar(v):\n",
    "    norm = np.linalg.norm(v)\n",
    "    vectNormal = v / norm\n",
    "    return vectNormal\n",
    "def transit(v1, v2):\n",
    "    n1 = normalizar(v1)\n",
    "    n2 = normalizar(v2)\n",
    "    producto = np.vdot(n2, n1)\n",
    "    return producto"
   ]
  },
  {
   "cell_type": "markdown",
   "metadata": {},
   "source": [
    "## COMPLETE LOS RETOS DE PROGRAMACIÓN DEL CAPÍTULO 4."
   ]
  },
  {
   "cell_type": "markdown",
   "metadata": {},
   "source": [
    "## 1. El sistema puede recibir dos vectores y calcular la probabilidad de transitar de el uno al otro después de hacer la observación"
   ]
  },
  {
   "cell_type": "code",
   "execution_count": 13,
   "metadata": {},
   "outputs": [],
   "source": [
    "import numpy as np\n",
    "def normalizar(v):\n",
    "    norm = np.linalg.norm(v)\n",
    "    vectNormal = v / norm\n",
    "    return vectNormal\n",
    "def transit(v1, v2):\n",
    "    n1 = normalizar(v1)\n",
    "    n2 = normalizar(v2)\n",
    "    producto = np.vdot(n2, n1)\n",
    "    return producto"
   ]
  },
  {
   "cell_type": "markdown",
   "metadata": {},
   "source": [
    "## 2. el sistema revisa que la matriz sea hermitiana, y si lo es, calcula la media y la varianza del observable en el estado dado."
   ]
  },
  {
   "cell_type": "code",
   "execution_count": 14,
   "metadata": {},
   "outputs": [
    {
     "name": "stdout",
     "output_type": "stream",
     "text": [
      "True\n",
      "2.5\n",
      "0.25\n"
     ]
    }
   ],
   "source": [
    "def isHermitian(m): \n",
    "    hermitian = np.allclose(m, m.conj().T)\n",
    "    return hermitian\n",
    "def avg(obs, ket):\n",
    "    br = np.dot(obs, ket.T)\n",
    "    x = np.vdot(br, ket)\n",
    "    return x.real\n",
    "def variance(obs, ket, avg):\n",
    "    n = len(obs[0])\n",
    "    t1 = obs - avg * np.eye(n)\n",
    "    t2 = np.dot(t1, t1)\n",
    "    t3 = np.dot(t2, ket.T) \n",
    "    t4 = np.vdot(ket, t3)\n",
    "    return t4.real\n",
    "def ejemplo():\n",
    "    m = np.array([[1, -1j], [1j, 2]])\n",
    "    ket = np.array([np.sqrt(2)/2, (np.sqrt(2)/2)*1j])\n",
    "    s = avg(m, ket)\n",
    "    var = variance(m, ket, s)\n",
    "    print(isHermitian(m))\n",
    "    print(np.round(s, 2))\n",
    "    print(np.round(var, 2))\n",
    "ejemplo()"
   ]
  },
  {
   "cell_type": "markdown",
   "metadata": {},
   "source": [
    "## 3. El sistema calcula los valores propios del observable y la probabilidad de que el sistema transite a alguno de los vectores propios después de la observación."
   ]
  },
  {
   "cell_type": "code",
   "execution_count": 15,
   "metadata": {},
   "outputs": [
    {
     "name": "stdout",
     "output_type": "stream",
     "text": [
      "[-1.41421356+0.j  1.41421356+0.j]\n",
      "[[ 0.92387953+0.j         -0.        -0.38268343j]\n",
      " [-0.        -0.38268343j  0.92387953+0.j        ]]\n",
      "0.5 0.5\n"
     ]
    }
   ],
   "source": [
    "import numpy as np\n",
    "def normalizar(v):\n",
    "    norm = np.linalg.norm(v)\n",
    "    vectNormal = v / norm\n",
    "    return vectNormal\n",
    "def propios(m):\n",
    "    eValues , eVectors = np.linalg.eig(m)\n",
    "    print(eValues)\n",
    "    print(eVectors)\n",
    "    return eVectors\n",
    "def ejemplo():\n",
    "    obs = np.array([[-1, -1j], [1j, 1]])\n",
    "    ket = ((np.array([1/2, 1/2]))).T\n",
    "    ketN = normalizar(ket)\n",
    "    eVectors = propios(obs)\n",
    "    eVector1 = eVectors[0]\n",
    "    eVector2 = eVectors[1]\n",
    "    p1 = np.round(np.linalg.norm(np.vdot(ketN, eVector1))**2, 2)\n",
    "    p2 = np.round(np.linalg.norm(np.vdot(ketN, eVector2))**2, 2)\n",
    "    print(p1, p2)\n",
    "ejemplo()"
   ]
  },
  {
   "cell_type": "markdown",
   "metadata": {},
   "source": [
    "## 4. Se considera la dinámica del sistema. Ahora con una serie de matrices Un el sistema calcula el estado final a partir de un estado inicial."
   ]
  },
  {
   "cell_type": "code",
   "execution_count": 16,
   "metadata": {},
   "outputs": [
    {
     "name": "stdout",
     "output_type": "stream",
     "text": [
      "[0.+0.70710678j 0.-0.70710678j]\n"
     ]
    }
   ],
   "source": [
    "import numpy as np\n",
    "def final(m, i):\n",
    "    final = i\n",
    "    for i in range(len(m)):\n",
    "        final = np.dot(m[i], final)\n",
    "    return final\n",
    "def ejercicio():\n",
    "    m=[]\n",
    "    m.append(np.array([[1, 0], [0, 1]]))\n",
    "    m.append(np.array([[0, -1j], [1j, 0]]))\n",
    "    m.append(np.array([[1/np.sqrt(2), 1/np.sqrt(2)], [1/np.sqrt(2), -1/np.sqrt(2)]])) \n",
    "    f = final(m, np.array([1,0]))\n",
    "    print(f)\n",
    "ejercicio()"
   ]
  },
  {
   "cell_type": "markdown",
   "metadata": {},
   "source": [
    "# 4.3.1"
   ]
  },
  {
   "cell_type": "code",
   "execution_count": 17,
   "metadata": {},
   "outputs": [
    {
     "name": "stdout",
     "output_type": "stream",
     "text": [
      "[ 0.70710678 -0.70710678]\n",
      "[[ 0.70710678 -0.70710678]\n",
      " [ 0.70710678  0.70710678]]\n",
      "Probabilidad de transición al vector propio 1: 0.5\n",
      "Probabilidad de transición al vector propio 2: 0.5\n",
      "0.0\n"
     ]
    }
   ],
   "source": [
    "import numpy as np\n",
    "Sx = (1/np.sqrt(2)) * np.array([[0, 1], [1, 0]])\n",
    "eValues, eVectors = np.linalg.eig(Sx)\n",
    "print(eValues)\n",
    "print(eVectors)\n",
    "i = np.array([1, 0]) \n",
    "probabilities = []\n",
    "distribution = 0\n",
    "for e in eVectors.T:\n",
    "    prob = np.linalg.norm(np.vdot(e, i))**2\n",
    "    probabilities.append(np.round(prob, 2))\n",
    "for i, probability in enumerate(probabilities):\n",
    "    print(f\"Probabilidad de transición al vector propio {i+1}: {probability}\")\n",
    "    distribution += probability * eValues[i]\n",
    "print( distribution)"
   ]
  },
  {
   "cell_type": "markdown",
   "metadata": {},
   "source": [
    "# 4.3.2"
   ]
  },
  {
   "cell_type": "markdown",
   "metadata": {},
   "source": []
  },
  {
   "cell_type": "markdown",
   "metadata": {},
   "source": [
    "# 4.4.1"
   ]
  },
  {
   "cell_type": "code",
   "execution_count": 18,
   "metadata": {},
   "outputs": [
    {
     "name": "stdout",
     "output_type": "stream",
     "text": [
      "True\n",
      "True\n",
      "True\n"
     ]
    }
   ],
   "source": [
    "import numpy as np\n",
    "def unitary(v):\n",
    "    unitary = np.allclose(np.dot(v, v.conj().T), np.eye(2))\n",
    "    return unitary\n",
    "def ejemplo():\n",
    "    t1 = np.array([[0, 1], [1, 0]])\n",
    "    t2 = np.array([[np.sqrt(2)/2, np.sqrt(2)/2], [np.sqrt(2)/2, -np.sqrt(2)/2]])\n",
    "    producto = np.dot(t1, t2)\n",
    "    print(unitary(t1))\n",
    "    print(unitary(t2))\n",
    "    print(unitary(producto))\n",
    "ejemplo()"
   ]
  },
  {
   "cell_type": "markdown",
   "metadata": {},
   "source": [
    "# 4.4.2"
   ]
  },
  {
   "cell_type": "code",
   "execution_count": 19,
   "metadata": {},
   "outputs": [
    {
     "name": "stdout",
     "output_type": "stream",
     "text": [
      "[[ 0.00000000e+00+0.00000000e+00j  7.07106781e-01+7.07106781e-01j\n",
      "   2.29934717e-17+2.29934717e-17j  0.00000000e+00+0.00000000e+00j]\n",
      " [-7.07106781e-01+7.07106781e-01j  0.00000000e+00+0.00000000e+00j\n",
      "   0.00000000e+00+0.00000000e+00j  0.00000000e+00+0.00000000e+00j]\n",
      " [ 0.00000000e+00+0.00000000e+00j  0.00000000e+00+0.00000000e+00j\n",
      "   0.00000000e+00+0.00000000e+00j  7.07106781e-01+7.07106781e-01j]\n",
      " [ 0.00000000e+00+0.00000000e+00j -2.29934717e-17+2.29934717e-17j\n",
      "  -7.07106781e-01+7.07106781e-01j  0.00000000e+00+0.00000000e+00j]]\n",
      "[0. 0. 0. 1.]\n"
     ]
    }
   ],
   "source": [
    "import numpy as np\n",
    "map = np.array([\n",
    "    [0, 1/np.sqrt(2), 1/np.sqrt(2), 0],\n",
    "    [1j/np.sqrt(2), 0, 0, 1/np.sqrt(2)],\n",
    "    [1/np.sqrt(2), 0, 0, 1j/np.sqrt(2)],\n",
    "    [0, 1/np.sqrt(2), -1/np.sqrt(2), 0]\n",
    "])\n",
    "i = np.array([1, 0, 0, 0])\n",
    "i = np.linalg.matrix_power(map, 3)\n",
    "prob = np.abs(i[2])**2\n",
    "print(i)\n",
    "print(prob)"
   ]
  }
 ],
 "metadata": {
  "kernelspec": {
   "display_name": ".venv",
   "language": "python",
   "name": "python3"
  },
  "language_info": {
   "codemirror_mode": {
    "name": "ipython",
    "version": 3
   },
   "file_extension": ".py",
   "mimetype": "text/x-python",
   "name": "python",
   "nbconvert_exporter": "python",
   "pygments_lexer": "ipython3",
   "version": "3.11.4"
  }
 },
 "nbformat": 4,
 "nbformat_minor": 2
}
