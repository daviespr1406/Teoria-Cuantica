{
 "cells": [
  {
   "cell_type": "markdown",
   "metadata": {},
   "source": [
    "# Quantum States"
   ]
  },
  {
   "cell_type": "markdown",
   "metadata": {},
   "source": [
    "# SIMULE EL PRIMER SISTEMA CUÁNTICO DESCRITO EN LA SECCIÓN 4.1."
   ]
  },
  {
   "cell_type": "markdown",
   "metadata": {},
   "source": [
    "### 1. El sistema debe calcular la probabilidad de encontrarlo en una posición en particular."
   ]
  },
  {
   "cell_type": "code",
   "execution_count": 2,
   "metadata": {},
   "outputs": [
    {
     "name": "stdout",
     "output_type": "stream",
     "text": [
      "[0.52631579]\n",
      "[0.21052632]\n",
      "[0.05263158]\n",
      "[0.21052632]\n"
     ]
    }
   ],
   "source": [
    "import numpy as np\n",
    "def quantumStates(vector, position):\n",
    "    probability = np.abs(vector[position]) ** 2 / np.linalg.norm(vector) ** 2\n",
    "    return probability\n",
    "def ejemplo(): #Ejemplo 4.1.1\n",
    "    ket = np.array([[-3-1j],[-2j], [1j], [2]])\n",
    "    for i in range (0, ket.shape[0]):\n",
    "        pos = i\n",
    "        prob = quantumStates (ket, pos)\n",
    "        print(prob)\n",
    "ejemplo()"
   ]
  }
 ],
 "metadata": {
  "kernelspec": {
   "display_name": "Python 3",
   "language": "python",
   "name": "python3"
  },
  "language_info": {
   "codemirror_mode": {
    "name": "ipython",
    "version": 3
   },
   "file_extension": ".py",
   "mimetype": "text/x-python",
   "name": "python",
   "nbconvert_exporter": "python",
   "pygments_lexer": "ipython3",
   "version": "3.11.9"
  }
 },
 "nbformat": 4,
 "nbformat_minor": 2
}
